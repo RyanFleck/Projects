{
 "cells": [
  {
   "cell_type": "markdown",
   "metadata": {},
   "source": [
    "# R.BrowserUnit Experimentation Notebook\n",
    "\n",
    "**R.BrowserUnit** is a simple python library class for running Selenium Webdriver tests inside UnitTest functions. It is intended to speed the automation of simple and repetitive browser actions.\n",
    "\n",
    "This notebook is a collection of experimental methods to develop a minimal set of functions for quickly checking for element content, element presence, switching pages, parsing sitemaps, etc.\n"
   ]
  },
  {
   "cell_type": "code",
   "execution_count": 1,
   "metadata": {},
   "outputs": [],
   "source": [
    "import rcf_lib as R\n",
    "import unittest\n",
    "from selenium import webdriver\n",
    "from selenium.webdriver.support.ui import Select\n",
    "from selenium.webdriver.chrome.options import Options as C_Options\n",
    "from selenium.webdriver.firefox.options import Options as FF_Options\n",
    "import time\n",
    "import sys\n",
    "from colorama import init as cinit\n",
    "cinit() # Filters ANSI escape sequences and inserts Win32 calls."
   ]
  },
  {
   "cell_type": "code",
   "execution_count": 2,
   "metadata": {},
   "outputs": [],
   "source": [
    "x = \"Hello, world!\""
   ]
  },
  {
   "cell_type": "code",
   "execution_count": 3,
   "metadata": {},
   "outputs": [
    {
     "name": "stdout",
     "output_type": "stream",
     "text": [
      "Hello, world!\n"
     ]
    }
   ],
   "source": [
    "print(x)"
   ]
  },
  {
   "cell_type": "code",
   "execution_count": 4,
   "metadata": {},
   "outputs": [],
   "source": [
    "FF_BINARY_PATH = \"webdrivers/geckodriver.exe\" # Assuming notebook was opened from py/\n",
    "CHROME_BINARY_PATH = \"webdrivers/chromedriver.exe\"\n",
    "\n",
    "def FF_DRIVER():\n",
    "    firefox_options = FF_Options()\n",
    "    return webdriver.Firefox(executable_path=FF_BINARY_PATH,options=firefox_options)\n",
    "\n",
    "def C_DRIVER():\n",
    "    chrome_options = C_Options()\n",
    "    chrome_options.add_argument(\"--window-size=200,\")\n",
    "    chrome_options.add_argument(\"disable-infobars\")\n",
    "    chrome_options.add_argument(\"--disable-notifications\")\n",
    "    return webdriver.Chrome(executable_path=CHROME_BINARY_PATH,options=chrome_options)"
   ]
  },
  {
   "cell_type": "markdown",
   "metadata": {},
   "source": [
    "At this point, `FF_DRIVER()` will open a FireFox window for testing, and `CHROME_DRIVER()` will open a Chrome window for testing. Both functions return the **driver** that is used for maniuplating the page. We'll attempt to open and manipulate the FireFox driver first. A window should open after this command is run."
   ]
  },
  {
   "cell_type": "code",
   "execution_count": 6,
   "metadata": {},
   "outputs": [],
   "source": [
    "# Test ChromeDriver\n",
    "c_driver = C_DRIVER()\n",
    "c_driver.get(\"http://catb.org/jargon/html/index.html\")"
   ]
  },
  {
   "cell_type": "code",
   "execution_count": 7,
   "metadata": {},
   "outputs": [],
   "source": [
    "# Test GeckoDriver\n",
    "ff_driver = FF_DRIVER()\n",
    "ff_driver.get(\"http://catb.org/jargon/html/index.html\")"
   ]
  }
 ],
 "metadata": {
  "kernelspec": {
   "display_name": "Python 3",
   "language": "python",
   "name": "python3"
  },
  "language_info": {
   "codemirror_mode": {
    "name": "ipython",
    "version": 3
   },
   "file_extension": ".py",
   "mimetype": "text/x-python",
   "name": "python",
   "nbconvert_exporter": "python",
   "pygments_lexer": "ipython3",
   "version": "3.7.0"
  }
 },
 "nbformat": 4,
 "nbformat_minor": 2
}
