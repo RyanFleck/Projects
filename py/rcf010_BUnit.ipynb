{
 "cells": [
  {
   "cell_type": "markdown",
   "metadata": {},
   "source": [
    "# BrowserUnit Experimentation Notebook\n",
    "\n",
    "Currently in-development **BrowserUnit** is a simple python library class for running Selenium Webdriver tests inside UnitTest functions. It is intended to speed the automation of simple and repetitive browser actions.\n",
    "\n",
    "This notebook is a collection of experimental methods to develop a minimal set of functions for quickly checking for element content, element presence, switching pages, parsing sitemaps, etc.\n"
   ]
  },
  {
   "cell_type": "code",
   "execution_count": 1,
   "metadata": {
    "scrolled": false
   },
   "outputs": [],
   "source": [
    "import rcf_lib as R\n",
    "import unittest\n",
    "import os\n",
    "from selenium import webdriver\n",
    "from selenium.webdriver.support.ui import Select\n",
    "from selenium.webdriver.common.keys import Keys\n",
    "from selenium.webdriver.chrome.options import Options as C_Options\n",
    "from selenium.webdriver.firefox.options import Options as FF_Options\n",
    "import time\n",
    "import sys\n",
    "from colorama import init as cinit\n",
    "cinit() # Filters ANSI escape sequences and inserts Win32 calls."
   ]
  },
  {
   "cell_type": "code",
   "execution_count": 2,
   "metadata": {
    "scrolled": false
   },
   "outputs": [],
   "source": [
    "x = \"Hello, world!\""
   ]
  },
  {
   "cell_type": "code",
   "execution_count": 3,
   "metadata": {
    "scrolled": false
   },
   "outputs": [
    {
     "name": "stdout",
     "output_type": "stream",
     "text": [
      "Hello, world!\n"
     ]
    }
   ],
   "source": [
    "print(x)"
   ]
  },
  {
   "cell_type": "code",
   "execution_count": 4,
   "metadata": {
    "scrolled": false
   },
   "outputs": [],
   "source": [
    "if( os.name == 'nt' ):\n",
    "    FF_BINARY_PATH = \"webdrivers/geckodriver.exe\" # Assuming notebook was opened from py/\n",
    "    CHROME_BINARY_PATH = \"webdrivers/chromedriver.exe\"\n",
    "else:\n",
    "    FF_BINARY_PATH = \"webdrivers/geckodriver\" # Assuming notebook was opened from py/\n",
    "    CHROME_BINARY_PATH = \"webdrivers/chromedriver\"\n",
    "\n",
    "def FF_DRIVER():\n",
    "    firefox_options = FF_Options()\n",
    "    return webdriver.Firefox(executable_path=FF_BINARY_PATH,options=firefox_options)\n",
    "\n",
    "def C_DRIVER():\n",
    "    chrome_options = C_Options()\n",
    "    chrome_options.add_argument(\"--window-size=200,\")\n",
    "    chrome_options.add_argument(\"disable-infobars\")\n",
    "    chrome_options.add_argument(\"--disable-notifications\")\n",
    "    return webdriver.Chrome(executable_path=CHROME_BINARY_PATH,options=chrome_options)"
   ]
  },
  {
   "cell_type": "markdown",
   "metadata": {},
   "source": [
    "At this point, `FF_DRIVER()` will open a FireFox window for testing, and `CHROME_DRIVER()` will open a Chrome window for testing. Both functions return the **driver** that is used for maniuplating the page. We'll attempt to open and manipulate the FireFox driver first. A window should open after this command is run."
   ]
  },
  {
   "cell_type": "code",
   "execution_count": 5,
   "metadata": {
    "scrolled": false
   },
   "outputs": [
    {
     "name": "stdout",
     "output_type": "stream",
     "text": [
      "True\n",
      "The Jargon File\n"
     ]
    }
   ],
   "source": [
    "# Test ChromeDriver\n",
    "c_driver = C_DRIVER()\n",
    "c_driver.get(\"http://catb.org/jargon/html/index.html\")\n",
    "print(\"Jargon\" in c_driver.title) # Will print \"True\" if page loads successfully.\n",
    "print(c_driver.title)\n",
    "c_driver.close()"
   ]
  },
  {
   "cell_type": "code",
   "execution_count": 6,
   "metadata": {
    "scrolled": false
   },
   "outputs": [
    {
     "name": "stdout",
     "output_type": "stream",
     "text": [
      "True\n",
      "The Jargon File\n"
     ]
    }
   ],
   "source": [
    "# Test GeckoDriver\n",
    "ff_driver = FF_DRIVER()\n",
    "ff_driver.get(\"http://catb.org/jargon/html/index.html\")\n",
    "print(\"Jargon\" in ff_driver.title) # Will print \"True\" if page loads successfully.\n",
    "print(ff_driver.title)\n",
    "ff_driver.close()"
   ]
  },
  {
   "cell_type": "markdown",
   "metadata": {},
   "source": [
    "### Requirements for the BrowserUnit Class:\n",
    "\n",
    "1. Provide an abstraction layer for easy testing of website components.\n",
    "2. Provide a system for defining the composition of a website's html so components can be isolated and verified as present or with certain properties.\n",
    "3. Provide methods to check for elements and text on the page, in such a way that a script can be quickly constructed for testing against a requirement.\n",
    "4. Provide a framework to write test cases for each requirement defined in a separate document of test cases.\n",
    "\n",
    "### Stretch Functionality:\n",
    "\n",
    "1. Pull and process sitemap using beautifulsoup , requests.\n",
    "\n",
    "# Implementation Plan\n",
    "\n",
    "In order to execute a series of pre-determined functions in order with variables, I will add the functions to a queue and execute them synchronously. I don't necessarily want to implement threading yet, but if I implement this correctly, it shouldn't be hard."
   ]
  },
  {
   "cell_type": "code",
   "execution_count": 7,
   "metadata": {},
   "outputs": [
    {
     "name": "stdout",
     "output_type": "stream",
     "text": [
      "One\n",
      "Two\n",
      "Three\n"
     ]
    }
   ],
   "source": [
    "class Bottler:\n",
    "    \"\"\"Attempt to execute a stored array of functions.\"\"\"\n",
    "    def __init__(self):\n",
    "        self.bottlingQueue = []\n",
    "\n",
    "    def addTest(self, printme):\n",
    "        def bottledTest():\n",
    "            print( printme )\n",
    "        self.bottlingQueue.append(bottledTest)\n",
    "\n",
    "    def executeTests(self):\n",
    "        for test in self.bottlingQueue:\n",
    "            test()\n",
    "\n",
    "b = Bottler()\n",
    "b.addTest(\"One\")\n",
    "b.addTest(\"Two\")\n",
    "b.addTest(\"Three\")\n",
    "b.executeTests()"
   ]
  },
  {
   "cell_type": "code",
   "execution_count": 8,
   "metadata": {},
   "outputs": [
    {
     "name": "stdout",
     "output_type": "stream",
     "text": [
      "One\n",
      "Two\n",
      "Three\n",
      "Four\n"
     ]
    }
   ],
   "source": [
    "b.addTest(\"Four\")\n",
    "b.executeTests()"
   ]
  },
  {
   "cell_type": "markdown",
   "metadata": {},
   "source": [
    "`Bottler` demonstrates that functions can be stored as objects, stored in an array and called sequentially."
   ]
  },
  {
   "cell_type": "code",
   "execution_count": 9,
   "metadata": {
    "scrolled": false
   },
   "outputs": [],
   "source": [
    "class BrowserUnitQueue:\n",
    "    \"\"\"Used for storing and running \"\"\"\n",
    "    def __init__(self):\n",
    "        self.test_queue = []\n",
    "    \n",
    "    def add_unit(self, x):\n",
    "        self.test_queue.append(x)\n",
    "    \n",
    "    def list_units(self):\n",
    "        print(\"\")\n",
    "        for x in self.test_queue:\n",
    "            print(str(x))"
   ]
  },
  {
   "cell_type": "code",
   "execution_count": 10,
   "metadata": {
    "scrolled": false
   },
   "outputs": [],
   "source": [
    "class BrowserUnit:\n",
    "    \"\"\"Used for building a single unit-test.\"\"\"\n",
    "    def __init__(self):\n",
    "        self.ffd = FF_DRIVER()\n",
    "        self.cd = CC_DRIVER()\n",
    "        self.functionQueue = []\n",
    "    \n",
    "    def assertTitle(self, string):\n",
    "        def bottledAssertTitle(string):\n",
    "            self.functionQueue.append(bottledAssertTitle)"
   ]
  },
  {
   "cell_type": "code",
   "execution_count": 11,
   "metadata": {
    "scrolled": false
   },
   "outputs": [
    {
     "name": "stdout",
     "output_type": "stream",
     "text": [
      "lol\n",
      "\n",
      "This ought to be a unittest obj.\n"
     ]
    }
   ],
   "source": [
    "x = print\n",
    "x(\"lol\") # Oh, damn. Functions are objects.\n",
    "\n",
    "BROWSER_UNIT_QUEUE = BrowserUnitQueue()\n",
    "BROWSER_UNIT_QUEUE.add_unit(\"This ought to be a unittest obj.\")\n",
    "BROWSER_UNIT_QUEUE.list_units()"
   ]
  },
  {
   "cell_type": "code",
   "execution_count": 12,
   "metadata": {
    "scrolled": false
   },
   "outputs": [
    {
     "name": "stdout",
     "output_type": "stream",
     "text": [
      "Populating the interactive namespace from numpy and matplotlib\n"
     ]
    },
    {
     "data": {
      "text/plain": [
       "<matplotlib.legend.Legend at 0x7f7c40be6c50>"
      ]
     },
     "execution_count": 12,
     "metadata": {},
     "output_type": "execute_result"
    },
    {
     "data": {
      "image/png": "[encoded data removed]",
      "text/plain": [
       "<Figure size 432x288 with 1 Axes>"
      ]
     },
     "metadata": {
      "needs_background": "light"
     },
     "output_type": "display_data"
    }
   ],
   "source": [
    "%pylab inline\n",
    "x = linspace(0, 2*pi)\n",
    "plot(x, sin(x), label=r'$\\sin(x)$')\n",
    "plot(x, cos(x), 'ro', label=r'$\\cos(x)$')\n",
    "title(r'Sine and Cosine')\n",
    "legend() # Wow, this graph is pretty magical."
   ]
  },
  {
   "cell_type": "code",
   "execution_count": null,
   "metadata": {},
   "outputs": [],
   "source": []
  }
 ],
 "metadata": {
  "kernelspec": {
   "display_name": "Python 3",
   "language": "python",
   "name": "python3"
  },
  "language_info": {
   "codemirror_mode": {
    "name": "ipython",
    "version": 3
   },
   "file_extension": ".py",
   "mimetype": "text/x-python",
   "name": "python",
   "nbconvert_exporter": "python",
   "pygments_lexer": "ipython3",
   "version": "3.6.6"
  }
 },
 "nbformat": 4,
 "nbformat_minor": 2
}
