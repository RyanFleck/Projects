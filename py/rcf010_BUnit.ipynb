{
 "cells": [
  {
   "cell_type": "markdown",
   "metadata": {},
   "source": [
    "# BrowserUnit Experimentation Notebook\n",
    "\n",
    "Currently in-development **BrowserUnit** is a simple python library class for running Selenium Webdriver tests inside UnitTest functions. It is intended to speed the automation of simple and repetitive browser actions.\n",
    "\n",
    "This notebook is a collection of experimental methods to develop a minimal set of functions for quickly checking for element content, element presence, switching pages, parsing sitemaps, etc.\n",
    "\n",
    "**Conclusions** at bottom of document.\n"
   ]
  },
  {
   "cell_type": "code",
   "execution_count": 1,
   "metadata": {
    "scrolled": false
   },
   "outputs": [],
   "source": [
    "import rcf_lib as R\n",
    "import unittest\n",
    "import os\n",
    "from selenium import webdriver\n",
    "from selenium.webdriver.support.ui import Select\n",
    "from selenium.webdriver.common.keys import Keys\n",
    "from selenium.webdriver.chrome.options import Options as C_Options\n",
    "from selenium.webdriver.firefox.options import Options as FF_Options\n",
    "import time\n",
    "import sys\n",
    "from colorama import init as cinit\n",
    "cinit() # Filters ANSI escape sequences and inserts Win32 calls."
   ]
  },
  {
   "cell_type": "code",
   "execution_count": 2,
   "metadata": {
    "scrolled": false
   },
   "outputs": [],
   "source": [
    "x = \"Hello, world!\""
   ]
  },
  {
   "cell_type": "code",
   "execution_count": 3,
   "metadata": {
    "scrolled": false
   },
   "outputs": [
    {
     "name": "stdout",
     "output_type": "stream",
     "text": [
      "Hello, world!\n"
     ]
    }
   ],
   "source": [
    "print(x)"
   ]
  },
  {
   "cell_type": "code",
   "execution_count": 4,
   "metadata": {
    "scrolled": false
   },
   "outputs": [
    {
     "name": "stdout",
     "output_type": "stream",
     "text": [
      "Grabbing WinDOS executables...\n"
     ]
    }
   ],
   "source": [
    "# Assuming notebook was opened from py/\n",
    "if( os.name == 'nt' ):\n",
    "    print(\"Grabbing WinDOS executables...\")\n",
    "    FF_BINARY_PATH = \"webdrivers/geckodriver.exe\"\n",
    "    CHROME_BINARY_PATH = \"webdrivers/chromedriver.exe\"\n",
    "else:\n",
    "    print(\"Grabbing Unix binaries...\")\n",
    "    FF_BINARY_PATH = \"webdrivers/geckodriver\"\n",
    "    CHROME_BINARY_PATH = \"webdrivers/chromedriver\"\n",
    "    \n",
    "# In the future, throw errors if os.path to webdrivers folder/ drivers are not available.\n",
    "\n",
    "def FF_DRIVER():\n",
    "    firefox_options = FF_Options()\n",
    "    return webdriver.Firefox(executable_path=FF_BINARY_PATH,options=firefox_options)\n",
    "\n",
    "def C_DRIVER():\n",
    "    chrome_options = C_Options()\n",
    "    chrome_options.add_argument(\"--window-size=200,\")\n",
    "    chrome_options.add_argument(\"disable-infobars\")\n",
    "    chrome_options.add_argument(\"--disable-notifications\")\n",
    "    return webdriver.Chrome(executable_path=CHROME_BINARY_PATH,options=chrome_options)\n",
    "\n",
    "# In final implementation, instantiate these drivers in test objects with bottlers (see #Implementation Plan)"
   ]
  },
  {
   "cell_type": "markdown",
   "metadata": {},
   "source": [
    "At this point, `FF_DRIVER()` will open a FireFox window for testing, and `CHROME_DRIVER()` will open a Chrome window for testing. Both functions return the **driver** that is used for maniuplating the page. We'll attempt to open and manipulate the FireFox driver first. A window should open after this command is run."
   ]
  },
  {
   "cell_type": "code",
   "execution_count": 5,
   "metadata": {
    "scrolled": false
   },
   "outputs": [
    {
     "name": "stdout",
     "output_type": "stream",
     "text": [
      "True\n",
      "The Jargon File\n"
     ]
    }
   ],
   "source": [
    "# Test ChromeDriver\n",
    "c_driver = C_DRIVER()\n",
    "c_driver.get(\"http://catb.org/jargon/html/index.html\")\n",
    "print(\"Jargon\" in c_driver.title) # Will print \"True\" if page loads successfully.\n",
    "print(c_driver.title)\n",
    "c_driver.close()"
   ]
  },
  {
   "cell_type": "code",
   "execution_count": 6,
   "metadata": {
    "scrolled": false
   },
   "outputs": [
    {
     "name": "stdout",
     "output_type": "stream",
     "text": [
      "True\n",
      "The Jargon File\n"
     ]
    }
   ],
   "source": [
    "# Test GeckoDriver\n",
    "ff_driver = FF_DRIVER()\n",
    "ff_driver.get(\"http://catb.org/jargon/html/index.html\")\n",
    "print(\"Jargon\" in ff_driver.title) # Will print \"True\" if page loads successfully.\n",
    "print(ff_driver.title)\n",
    "ff_driver.close()"
   ]
  },
  {
   "cell_type": "markdown",
   "metadata": {},
   "source": [
    "### Requirements for the BrowserUnit Class:\n",
    "\n",
    "1. Provide an abstraction layer for easy testing of website components.\n",
    "2. Provide a system for defining the composition of a website's html so components can be isolated and verified as present or with certain properties.\n",
    "3. Provide methods to check for elements and text on the page, in such a way that a script can be quickly constructed for testing against a requirement.\n",
    "4. Provide a framework to write test cases for each requirement defined in a separate document of test cases.\n",
    "\n",
    "### Stretch Functionality:\n",
    "\n",
    "1. Pull and process sitemap using beautifulsoup , requests.\n",
    "\n",
    "# Implementation Plan\n",
    "\n",
    "In order to execute a series of pre-determined functions in order with variables, I will add the functions to a queue and execute them synchronously. I don't necessarily want to implement threading yet, but if I implement this correctly, it shouldn't be hard."
   ]
  },
  {
   "cell_type": "code",
   "execution_count": 7,
   "metadata": {},
   "outputs": [
    {
     "name": "stdout",
     "output_type": "stream",
     "text": [
      "One\n",
      "Two\n",
      "Three\n"
     ]
    }
   ],
   "source": [
    "class Bottler:\n",
    "    \"\"\"Attempt to execute a stored array of functions.\"\"\"\n",
    "    def __init__(self):\n",
    "        self.bottlingQueue = []\n",
    "\n",
    "    def addTest(self, printme):\n",
    "        def bottledTest():\n",
    "            print( printme )\n",
    "        self.bottlingQueue.append(bottledTest)\n",
    "\n",
    "    def executeTests(self):\n",
    "        for test in self.bottlingQueue:\n",
    "            test()\n",
    "\n",
    "b = Bottler()\n",
    "b.addTest(\"One\")\n",
    "b.addTest(\"Two\")\n",
    "b.addTest(\"Three\")\n",
    "b.executeTests()"
   ]
  },
  {
   "cell_type": "code",
   "execution_count": 10,
   "metadata": {},
   "outputs": [
    {
     "name": "stdout",
     "output_type": "stream",
     "text": [
      "One\n",
      "Two\n",
      "Three\n",
      "Four\n"
     ]
    }
   ],
   "source": [
    "b.addTest(\"Four\")\n",
    "b.executeTests()"
   ]
  },
  {
   "cell_type": "markdown",
   "metadata": {},
   "source": [
    "`Bottler` demonstrates that functions can be stored as objects, stored in an array and called sequentially."
   ]
  },
  {
   "cell_type": "code",
   "execution_count": 8,
   "metadata": {
    "scrolled": false
   },
   "outputs": [],
   "source": [
    "def initDriver( browser ):\n",
    "    \n",
    "    print(C_DRIVER)\n",
    "    print(FF_DRIVER)\n",
    "    \n",
    "    if(str(browser).lower() ==\"chr\"):\n",
    "        return C_DRIVER\n",
    "    elif(str(browser).lower() ==\"fir\"):\n",
    "        return FF_DRIVER\n",
    "\n",
    "# Required Global Variables?\n",
    "DRIVER = FF_DRIVER # initDriver(\"firefox\") # Not sure why initDriver isn't functional.\n",
    "DEBUG = True\n",
    "UNITTESTS = []\n",
    "\n",
    "# Eventually move to array of BrowserUnits\n",
    "class UnitTestAtom(unittest.TestCase):\n",
    "    \n",
    "    def setUp(self):\n",
    "        self.driver = DRIVER()\n",
    "        self.a = \"Lol\"\n",
    "        print(\"Setup\")\n",
    "        print(self)\n",
    "    \n",
    "    def tearDown(self):\n",
    "        self.driver.close()\n",
    "    \n",
    "    def test_000_is_this_working(self):\n",
    "        self.assertTrue( 1 > 0.9 )\n",
    "    \n",
    "    def ok(self):\n",
    "        print(\"UnitTestAtom Instantiated.\")\n",
    "\n",
    "def BuildUnitTestAtom( name ):\n",
    "    TestAtom = type(name, (UnitTestAtom,),{})\n",
    "    return TestAtom() #Ensure the active class name is returned."
   ]
  },
  {
   "cell_type": "markdown",
   "metadata": {},
   "source": [
    "```\n",
    "class BrowserUnitQueue(unittest.TestLoader):\n",
    "    \"\"\"Used for storing and running a collection of tests. One queue per Feature.\"\"\"\n",
    "    def __init__(self):\n",
    "        self.test_queue = []\n",
    "    \n",
    "    def add_unit(self, x):\n",
    "        self.test_queue.append(x)\n",
    "    \n",
    "    def list_units(self):\n",
    "        print(\"\")\n",
    "        for x in self.test_queue:\n",
    "            print(str(x))\n",
    "```"
   ]
  },
  {
   "cell_type": "code",
   "execution_count": 9,
   "metadata": {
    "scrolled": false
   },
   "outputs": [],
   "source": [
    "class BrowserUnit():\n",
    "    \"\"\"Used for building a single unit-test.\"\"\"\n",
    "    def __init__(self, testname):\n",
    "        self.testcase = BuildUnitTestAtom(str(testname))\n",
    "        self.testcase.ok()\n",
    "        self.test_number_int = 0\n",
    "        # self.execute()\n",
    "        self.functionQueue = []\n",
    "        UNITTESTS.append(self)\n",
    "    \n",
    "    def assertTitle(self, string):\n",
    "        \n",
    "        def bottledAssertTitle(self):\n",
    "            self.ok()\n",
    "            print(self.a)\n",
    "            self.assertIn(string, self.driver.title)\n",
    "            self.assertTrue( 1>2 )\n",
    "            \n",
    "        setattr(self.cases(), 'test_{0}_title_{1}'.format(self.test_number(),string), bottledAssertTitle)\n",
    "        \n",
    "    def cases(self):\n",
    "        \"\"\"Returns the completed testcase class for inclusion in a suite.\"\"\"\n",
    "        return self.testcase.__class__\n",
    "    \n",
    "    def test_number(self):\n",
    "        self.test_number_int += 1\n",
    "        return str(self.test_number_int)\n",
    "        \n",
    "    def execute(self):\n",
    "        \"\"\"Do not use.\"\"\"\n",
    "        # unittest.TestSuite(tests=(self.testcase)).run()\n",
    "        suite = unittest.TestLoader().loadTestsFromTestCase(self.testcase.__class__)\n",
    "        unittest.TextTestRunner(verbosity=2).run(suite)"
   ]
  },
  {
   "cell_type": "markdown",
   "metadata": {},
   "source": [
    "Basic tests for **BrowserUnit**:"
   ]
  },
  {
   "cell_type": "code",
   "execution_count": 11,
   "metadata": {
    "scrolled": true
   },
   "outputs": [
    {
     "name": "stdout",
     "output_type": "stream",
     "text": [
      "UnitTestAtom Instantiated.\n"
     ]
    },
    {
     "name": "stderr",
     "output_type": "stream",
     "text": [
      "test_000_is_this_working (__main__.test_one) ... "
     ]
    },
    {
     "name": "stdout",
     "output_type": "stream",
     "text": [
      "Setup\n",
      "test_000_is_this_working (__main__.test_one)\n"
     ]
    },
    {
     "name": "stderr",
     "output_type": "stream",
     "text": [
      "ok\n",
      "test_1_title_nothing (__main__.test_one) ... "
     ]
    },
    {
     "name": "stdout",
     "output_type": "stream",
     "text": [
      "Setup\n",
      "test_1_title_nothing (__main__.test_one)\n",
      "UnitTestAtom Instantiated.\n",
      "Lol\n"
     ]
    },
    {
     "name": "stderr",
     "output_type": "stream",
     "text": [
      "FAIL\n",
      "\n",
      "======================================================================\n",
      "FAIL: test_1_title_nothing (__main__.test_one)\n",
      "----------------------------------------------------------------------\n",
      "Traceback (most recent call last):\n",
      "  File \"<ipython-input-9-46ccb767e686>\", line 16, in bottledAssertTitle\n",
      "    self.assertIn(string, self.driver.title)\n",
      "AssertionError: 'nothing' not found in ''\n",
      "\n",
      "----------------------------------------------------------------------\n",
      "Ran 2 tests in 13.679s\n",
      "\n",
      "FAILED (failures=1)\n"
     ]
    }
   ],
   "source": [
    "test1 = BrowserUnit(\"test_one\")\n",
    "test1.assertTitle(\"nothing\")\n",
    "test1.execute()"
   ]
  },
  {
   "cell_type": "markdown",
   "metadata": {},
   "source": [
    "Now that we can store a unittest in BrowserUnit, let's see if we can run a few BrowserUnits with their internal TestAtoms:"
   ]
  },
  {
   "cell_type": "code",
   "execution_count": 12,
   "metadata": {},
   "outputs": [
    {
     "name": "stdout",
     "output_type": "stream",
     "text": [
      "UnitTestAtom Instantiated.\n",
      "UnitTestAtom Instantiated.\n",
      "UnitTestAtom Instantiated.\n",
      "Setup\n",
      "test_000_is_this_working (__main__.test_one)\n"
     ]
    },
    {
     "name": "stderr",
     "output_type": "stream",
     "text": [
      "."
     ]
    },
    {
     "name": "stdout",
     "output_type": "stream",
     "text": [
      "Setup\n",
      "test_000_is_this_working (__main__.test_two)\n"
     ]
    },
    {
     "name": "stderr",
     "output_type": "stream",
     "text": [
      "."
     ]
    },
    {
     "name": "stdout",
     "output_type": "stream",
     "text": [
      "Setup\n",
      "test_000_is_this_working (__main__.test_three)\n"
     ]
    },
    {
     "name": "stderr",
     "output_type": "stream",
     "text": [
      ".\n",
      "----------------------------------------------------------------------\n",
      "Ran 3 tests in 20.722s\n",
      "\n",
      "OK\n"
     ]
    },
    {
     "name": "stdout",
     "output_type": "stream",
     "text": [
      "<unittest.runner.TextTestResult run=3 errors=0 failures=0>\n"
     ]
    }
   ],
   "source": [
    "UNITTESTS = [] # Clear previous unittests.\n",
    "\n",
    "test1 = BrowserUnit(\"test_one\")\n",
    "test2 = BrowserUnit(\"test_two\")\n",
    "test3 = BrowserUnit(\"test_three\")\n",
    "\n",
    "SUITES = []\n",
    "# suite = unittest.TestLoader().loadTestsFromTestCase(self.testcase.__class__)\n",
    "# unittest.TextTestRunner(verbosity=2).run(suite)\n",
    "\n",
    "# Combine test suites.\n",
    "for x in UNITTESTS:\n",
    "    suite = unittest.TestLoader().loadTestsFromTestCase(x.cases())\n",
    "    SUITES.append(suite)\n",
    "\n",
    "FINAL_SUITE = unittest.TestSuite(SUITES)\n",
    "runner = unittest.TextTestRunner()\n",
    "print(runner.run(FINAL_SUITE))"
   ]
  },
  {
   "cell_type": "code",
   "execution_count": 13,
   "metadata": {
    "scrolled": false
   },
   "outputs": [
    {
     "name": "stdout",
     "output_type": "stream",
     "text": [
      "lol\n"
     ]
    }
   ],
   "source": [
    "x = print\n",
    "x(\"lol\") # Oh, damn. Functions are objects.\n",
    "\n",
    "# BROWSER_UNIT_QUEUE = BrowserUnitQueue()\n",
    "# BROWSER_UNIT_QUEUE.add_unit(\"This ought to be a unittest obj.\")\n",
    "# BROWSER_UNIT_QUEUE.list_units()"
   ]
  },
  {
   "cell_type": "code",
   "execution_count": 14,
   "metadata": {
    "scrolled": false
   },
   "outputs": [
    {
     "name": "stdout",
     "output_type": "stream",
     "text": [
      "Populating the interactive namespace from numpy and matplotlib\n"
     ]
    },
    {
     "data": {
      "text/plain": [
       "<matplotlib.legend.Legend at 0xbd2f1b0>"
      ]
     },
     "execution_count": 14,
     "metadata": {},
     "output_type": "execute_result"
    },
    {
     "data": {
      "image/png": "[encoded data removed]",
      "text/plain": [
       "<Figure size 432x288 with 1 Axes>"
      ]
     },
     "metadata": {
      "needs_background": "light"
     },
     "output_type": "display_data"
    }
   ],
   "source": [
    "%pylab inline\n",
    "x = linspace(0, 2*pi)\n",
    "plot(x, sin(x), label=r'$\\sin(x)$')\n",
    "plot(x, cos(x), 'ro', label=r'$\\cos(x)$')\n",
    "title(r'Sine and Cosine')\n",
    "legend() # Wow, this graph is pretty magical."
   ]
  },
  {
   "cell_type": "markdown",
   "metadata": {},
   "source": [
    "\n",
    "\n",
    "\n",
    "# Conclusions\n",
    "\n",
    "I could continue to take this experiment in one of two ways:\n",
    "1. Define a test, actionqueue and createstep methods in BrowserUnit so instantiating a browserunit for each test area is correct.\n",
    "2. Define a variety of actions in BrowserUnit and stack a bunch of BrowserUnits in a larger BrowserUnitArea class.\n",
    "\n",
    "\n"
   ]
  }
 ],
 "metadata": {
  "kernelspec": {
   "display_name": "Python 3",
   "language": "python",
   "name": "python3"
  },
  "language_info": {
   "codemirror_mode": {
    "name": "ipython",
    "version": 3
   },
   "file_extension": ".py",
   "mimetype": "text/x-python",
   "name": "python",
   "nbconvert_exporter": "python",
   "pygments_lexer": "ipython3",
   "version": "3.7.0"
  }
 },
 "nbformat": 4,
 "nbformat_minor": 2
}
