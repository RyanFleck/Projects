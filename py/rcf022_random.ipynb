{
 "cells": [
  {
   "cell_type": "markdown",
   "metadata": {},
   "source": [
    "# Random Experiments Completed While Reading Lutz - Learning Python\n",
    "Mark Lutz's book, *Learning Python*, published by O'Reilly in 2013, describes the bulk of Python 2 and 3. Though a bit dated, I'm going to run through and run all of my *'oh, is that how that works?'* programs here. The most interesting learn-ings will probably be rolled into a collection of articles basically announcing *'oh wow, here's this neat thing, did you know this?'* I'll have a lot of fun writing and publishing those."
   ]
  },
  {
   "cell_type": "code",
   "execution_count": 1,
   "metadata": {},
   "outputs": [
    {
     "name": "stdout",
     "output_type": "stream",
     "text": [
      "Hello, World!\n"
     ]
    }
   ],
   "source": [
    "# For those of you new to python, this is a comment, and below prints the canonical greeting 'Hello World'.\n",
    "print('Hello, World!')"
   ]
  },
  {
   "cell_type": "markdown",
   "metadata": {},
   "source": [
    "I didn't realize Jupyter notebooks had such great hotkeys: `esc` for command mode, `j` and `k` to move up and down cells, `enter` to edit, `shift-enter` to run and continue to the next cell, `h` to see commands or `p` to search commands.\n",
    "\n",
    "Most importantly, `b` for a new cell, then `m` for markdown or `y` for code."
   ]
  },
  {
   "cell_type": "code",
   "execution_count": null,
   "metadata": {},
   "outputs": [],
   "source": []
  }
 ],
 "metadata": {
  "kernelspec": {
   "display_name": "Python 3",
   "language": "python",
   "name": "python3"
  },
  "language_info": {
   "codemirror_mode": {
    "name": "ipython",
    "version": 3
   },
   "file_extension": ".py",
   "mimetype": "text/x-python",
   "name": "python",
   "nbconvert_exporter": "python",
   "pygments_lexer": "ipython3",
   "version": "3.7.3"
  }
 },
 "nbformat": 4,
 "nbformat_minor": 2
}
